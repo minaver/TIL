{
 "cells": [
  {
   "cell_type": "code",
   "execution_count": null,
   "id": "da213c71",
   "metadata": {},
   "outputs": [],
   "source": [
    "import cv2\n",
    "import numpy as np\n",
    "from math import acos, pi, sqrt"
   ]
  },
  {
   "cell_type": "code",
   "execution_count": null,
   "id": "fb7f9ffd",
   "metadata": {},
   "outputs": [],
   "source": [
    "def compute_Hue(B, G, R):\n",
    "    angle = 0\n",
    "    if B != G != R:\n",
    "        angle = 0.5*((R-G)+(R-B)) / sqrt((R-G)*(R-G) + (R-B)*(G-B))\n",
    "    return acos(angle) if B<=G else (2*pi - acos(angle))"
   ]
  },
  {
   "cell_type": "code",
   "execution_count": null,
   "id": "ae7a3828",
   "metadata": {},
   "outputs": [],
   "source": [
    "import cv2\n",
    "import numpy as np\n",
    "from math import acos, pi, sqrt\n",
    "\n",
    "\n",
    "# .imread : 원하는 이미지를 읽어오고 해당 이미지를 컬러/흑백으로 읽어올 것인지 설정\n",
    "src = cv2.imread('testImg.jpeg', cv2.IMREAD_COLOR)\n",
    "# 높이 너비 저장\n",
    "height, width = src.shape[0], src.shape[1] \n",
    "\n",
    "# HSI 정보를 저장할 공간 생성\n",
    "I = np.zeros((height,width))\n",
    "S = np.zeros((height,width))\n",
    "H = np.zeros((height,width))\n",
    "\n",
    "# cv2.imshow(\"src\",src)\n",
    "# cv2.waitKey(0)\n",
    "# cv2.destroyAllWindows()\n",
    "\n",
    "for i in range(height):\n",
    "    for j in range(width):\n",
    "#         B G R 순서로 정보가 저장되어 있다.\n",
    "        B, G, R = src[i][j][0]/255. , src[i][j][1]/255. , src[i][j][2]/255.\n",
    "        \n",
    "#         H S I 값을 각각의 수식에 따라 도출\n",
    "        I[i][j] = (B+G+R)/3.\n",
    "        if B+G+R != 0:\n",
    "            S[i][j] = 1 - 3*np.min([B,G,R])/(B+G+R)\n",
    "        H[i][j] = compute_Hue(B,G,R)\n",
    "\n",
    "dst = np.zeros((height,width,3), dtype=np.uint8)\n",
    "\n",
    "print(\"H-max : \", np.max(H))\n",
    "print(\"H-min : \", np.min(H))\n",
    "\n",
    "for i in range(height):\n",
    "    for j in range(width):\n",
    "        if H[i][j] >= 4.9 and H[i][j] <= 6.27:\n",
    "            dst[i][j] = src[i][j]\n",
    "            \n",
    "cv2.imshow(\"dst\",dst)\n",
    "cv2.imshow(\"src\",src)\n",
    "cv2.waitKey(0)\n",
    "cv2.destroyAllWindows()\n",
    "\n"
   ]
  },
  {
   "cell_type": "code",
   "execution_count": null,
   "id": "27502247",
   "metadata": {},
   "outputs": [],
   "source": []
  },
  {
   "cell_type": "code",
   "execution_count": null,
   "id": "e325cb3e",
   "metadata": {},
   "outputs": [],
   "source": []
  }
 ],
 "metadata": {
  "kernelspec": {
   "display_name": "Python 3 (ipykernel)",
   "language": "python",
   "name": "python3"
  },
  "language_info": {
   "codemirror_mode": {
    "name": "ipython",
    "version": 3
   },
   "file_extension": ".py",
   "mimetype": "text/x-python",
   "name": "python",
   "nbconvert_exporter": "python",
   "pygments_lexer": "ipython3",
   "version": "3.9.7"
  }
 },
 "nbformat": 4,
 "nbformat_minor": 5
}
