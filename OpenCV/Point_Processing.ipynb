{
 "cells": [
  {
   "cell_type": "code",
   "execution_count": 1,
   "id": "1e95b48c",
   "metadata": {},
   "outputs": [],
   "source": [
    "def compute_Hue(B, G, R):\n",
    "    angle = 0\n",
    "    if B != G != R:\n",
    "        angle = 0.5*((R-G)+(R-B)) / sqrt((R-G)*(R-G) + (R-B)*(G-B))\n",
    "    return acos(angle) if B<=G else (2*pi - acos(angle))"
   ]
  },
  {
   "cell_type": "code",
   "execution_count": 2,
   "id": "798dd886",
   "metadata": {},
   "outputs": [],
   "source": [
    "def negative(src):\n",
    "    # 높이 너비 저장\n",
    "    height, width = src.shape[0], src.shape[1] \n",
    "    neg = np.zeros((height,width,3), dtype=np.uint8)\n",
    "    \n",
    "    for i in range(height):\n",
    "        for j in range(width):\n",
    "            # 입력 영상 픽셀 엑세스\n",
    "            neg[i][j][0] = 255 - src[i][j][0]\n",
    "            neg[i][j][1] = 255 - src[i][j][1]\n",
    "            neg[i][j][2] = 255 - src[i][j][2]\n",
    "\n",
    "    cv2.imshow(\"neg\",neg)"
   ]
  },
  {
   "cell_type": "code",
   "execution_count": 3,
   "id": "62f77b1b",
   "metadata": {},
   "outputs": [],
   "source": [
    "def power_law(src,r):\n",
    "    # 높이 너비 저장\n",
    "    height, width = src.shape[0], src.shape[1] \n",
    "    power_law = np.zeros((height,width,3), dtype=np.uint8)\n",
    "    \n",
    "    for i in range(height):\n",
    "        for j in range(width):\n",
    "            # 입력 영상 픽셀 엑세스\n",
    "            power_law[i][j][0] = 255*(src[i][j][0]/255)**r\n",
    "            power_law[i][j][1] = 255*(src[i][j][1]/255)**r\n",
    "            power_law[i][j][2] = 255*(src[i][j][2]/255)**r\n",
    "            \n",
    "\n",
    "    cv2.imshow(\"power_law \"+str(r),power_law)"
   ]
  },
  {
   "cell_type": "code",
   "execution_count": 4,
   "id": "dffc66c2",
   "metadata": {},
   "outputs": [],
   "source": [
    "# 수정 필요\n",
    "def histogram_equalization_black(src):\n",
    "    # 높이 너비 저장\n",
    "    height, width = src.shape[0], src.shape[1] \n",
    "    result = np.zeros((height,width,3), dtype=np.uint8)\n",
    "    hist = np.zeros(256, dtype=np.uint8)\n",
    "    sum_hist = np.zeros(256, dtype=np.uint8)\n",
    "    \n",
    "    # 픽셀에서 등장한 수 도출 \n",
    "    for i in range(height):\n",
    "        for j in range(width):\n",
    "            hist[src[i][j]] = hist[src[i][j]] +1\n",
    "            \n",
    "            \n",
    "    # 누적 합 도출\n",
    "    sum = 0\n",
    "    for i in range(256):\n",
    "        sum = sum + hist[i]\n",
    "        sum_hist[i] = int(sum/255.0 + 0.5)\n",
    "        \n",
    "    \n",
    "    for i in range(height):\n",
    "        for j in range(width):\n",
    "            result[i][j] = sum_hist[src[i][j]]\n",
    "            \n",
    "    \n",
    "    cv2.imshow('histogram_equalization_black', result)"
   ]
  },
  {
   "cell_type": "code",
   "execution_count": 5,
   "id": "13535843",
   "metadata": {},
   "outputs": [],
   "source": [
    "def histogram_equalization_color(src):\n",
    "    \n",
    "    # hsv 컬러 형태로 변형합니다.\n",
    "    hsv = cv2.cvtColor(src, cv2.COLOR_BGR2HSV)\n",
    "    # h, s, v로 컬러 영상을 분리 합니다. \n",
    "    h, s, v = cv2.split(hsv)\n",
    "    # v값을 히스토그램 평활화를 합니다.\n",
    "    equalizedV = cv2.equalizeHist(v)\n",
    "    # h,s,equalizedV를 합쳐서 새로운 hsv 이미지를 만듭니다.\n",
    "    hsv2 = cv2.merge([h,s,equalizedV])\n",
    "    # 마지막으로 hsv2를 다시 BGR 형태로 변경합니다.\n",
    "    hsvDst = cv2.cvtColor(hsv2, cv2.COLOR_HSV2BGR)\n",
    "    \n",
    "    cv2.imshow('histogram_equalization_color', hsvDst)"
   ]
  },
  {
   "cell_type": "code",
   "execution_count": null,
   "id": "7c3d8e2f",
   "metadata": {},
   "outputs": [],
   "source": [
    "import cv2\n",
    "import numpy as np\n",
    "from math import acos, pi, sqrt\n",
    "import os\n",
    "    \n",
    "\n",
    "# main\n",
    "path = 'test_image/bridge.bmp'\n",
    "\n",
    "# .imread : 원하는 이미지를 읽어오고 해당 이미지를 컬러/흑백으로 읽어올 것인지 설정\n",
    "src_black = cv2.imread(path, 0)\n",
    "src_color = cv2.imread(path)\n",
    "\n",
    "negative(src_color)\n",
    "power_law(src_color,0.2)\n",
    "power_law(src_color,0.4)\n",
    "power_law(src_color,1.5)\n",
    "power_law(src_color,2.5)\n",
    "histogram_equalization_color(src_color)\n",
    "\n",
    "cv2.imshow(\"src_color\",src_color)\n",
    "cv2.waitKey(0)\n",
    "cv2.destroyAllWindows()\n"
   ]
  },
  {
   "cell_type": "code",
   "execution_count": null,
   "id": "fcaed076",
   "metadata": {},
   "outputs": [],
   "source": []
  }
 ],
 "metadata": {
  "kernelspec": {
   "display_name": "Python 3 (ipykernel)",
   "language": "python",
   "name": "python3"
  },
  "language_info": {
   "codemirror_mode": {
    "name": "ipython",
    "version": 3
   },
   "file_extension": ".py",
   "mimetype": "text/x-python",
   "name": "python",
   "nbconvert_exporter": "python",
   "pygments_lexer": "ipython3",
   "version": "3.9.7"
  }
 },
 "nbformat": 4,
 "nbformat_minor": 5
}
